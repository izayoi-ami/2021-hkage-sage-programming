{
 "cells": [
  {
   "cell_type": "markdown",
   "metadata": {
    "collapsed": false
   },
   "source": [
    "# List practice\n",
    "\n",
    "1. Try to produce the following lists:\n",
    "- [ ] first ten positive even numbers;\n",
    "- [ ] first hundred cubic numbers;\n",
    "- [ ] first ten primes.\n",
    "- [ ] $\\pi, \\pi^2, \\pi^3, \\dots, \\pi^{10}$\n"
   ]
  },
  {
   "cell_type": "code",
   "execution_count": 0,
   "metadata": {
    "collapsed": false
   },
   "outputs": [
   ],
   "source": [
   ]
  },
  {
   "cell_type": "markdown",
   "metadata": {
    "collapsed": false
   },
   "source": [
    "# Series\n",
    "\n",
    "What is the result of the following:\n",
    "- $\\frac{3}{10}+\\frac{3}{100}+\\frac{3}{1000}+\\dots$\n",
    "\n",
    "- $\\frac{1}{1^2}+\\frac{2}{2^2}+\\frac{3}{3^2}+\\frac{4}{4^2}+\\dots+$"
   ]
  },
  {
   "cell_type": "code",
   "execution_count": 0,
   "metadata": {
    "collapsed": false
   },
   "outputs": [
   ],
   "source": [
   ]
  },
  {
   "cell_type": "markdown",
   "metadata": {
    "collapsed": false
   },
   "source": [
    "# Discrete logarithm\n",
    "\n",
    "Find the smallest integer $n$ such that\n",
    "\n",
    "$$ 10^n \\equiv 1 \\pmod{7} $$"
   ]
  },
  {
   "cell_type": "code",
   "execution_count": 0,
   "metadata": {
    "collapsed": false
   },
   "outputs": [
   ],
   "source": [
   ]
  },
  {
   "cell_type": "markdown",
   "metadata": {
    "collapsed": false
   },
   "source": [
    "# Geometric sequence\n",
    "\n",
    "What is the result of\n",
    "\n",
    "- $1+2+4+8+16+\\dots+2^{15}$\n"
   ]
  },
  {
   "cell_type": "code",
   "execution_count": 0,
   "metadata": {
    "collapsed": false
   },
   "outputs": [
   ],
   "source": [
   ]
  },
  {
   "cell_type": "markdown",
   "metadata": {
    "collapsed": false
   },
   "source": [
    "# Remainder\n",
    "\n",
    "What is the last two digits of \n",
    "\n",
    "- $1+2+4+8+16+\\dots+2^{15}$"
   ]
  },
  {
   "cell_type": "code",
   "execution_count": 0,
   "metadata": {
    "collapsed": false
   },
   "outputs": [
   ],
   "source": [
   ]
  },
  {
   "cell_type": "markdown",
   "metadata": {
    "collapsed": false
   },
   "source": [
    "# Fibonacci sequence\n",
    "\n",
    "Can we simplify the below sum \n",
    "\n",
    "- $F_1 + F_4 + F_7 + F_{10} + \\dots + F_{100} $"
   ]
  },
  {
   "cell_type": "code",
   "execution_count": 0,
   "metadata": {
    "collapsed": false
   },
   "outputs": [
   ],
   "source": [
   ]
  }
 ],
 "metadata": {
  "kernelspec": {
   "display_name": "SageMath 9.1",
   "language": "sagemath",
   "metadata": {
    "cocalc": {
     "description": "Open-source mathematical software system",
     "priority": 1,
     "url": "https://www.sagemath.org/"
    }
   },
   "name": "sage-9.1",
   "resource_dir": "/ext/jupyter/kernels/sage-9.1"
  },
  "language_info": {
   "codemirror_mode": {
    "name": "ipython",
    "version": 3
   },
   "file_extension": ".py",
   "mimetype": "text/x-python",
   "name": "python",
   "nbconvert_exporter": "python",
   "pygments_lexer": "ipython3",
   "version": "3.7.3"
  }
 },
 "nbformat": 4,
 "nbformat_minor": 4
}