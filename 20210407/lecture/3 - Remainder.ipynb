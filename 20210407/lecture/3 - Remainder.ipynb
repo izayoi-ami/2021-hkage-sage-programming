{
 "cells": [
  {
   "cell_type": "markdown",
   "metadata": {
    "collapsed": false
   },
   "source": [
    "# Find the last two digits of $7^{2004}$"
   ]
  },
  {
   "cell_type": "code",
   "execution_count": 1,
   "metadata": {
    "collapsed": false
   },
   "outputs": [
    {
     "data": {
      "text/plain": [
       "43"
      ]
     },
     "execution_count": 1,
     "metadata": {
     },
     "output_type": "execute_result"
    }
   ],
   "source": [
    "7^2003 % 100  # mod    ,  modulus "
   ]
  },
  {
   "cell_type": "markdown",
   "metadata": {
    "collapsed": false
   },
   "source": [
    "# Find the last two digits of $1+7 + 7^2 + \\dots + 7^{2003}$ "
   ]
  },
  {
   "cell_type": "code",
   "execution_count": 2,
   "metadata": {
    "collapsed": false
   },
   "outputs": [
    {
     "data": {
      "text/plain": [
       "0"
      ]
     },
     "execution_count": 2,
     "metadata": {
     },
     "output_type": "execute_result"
    }
   ],
   "source": [
    "sum([7^k % 100 for k in [0..2003]])  % 100"
   ]
  },
  {
   "cell_type": "markdown",
   "metadata": {
    "collapsed": false
   },
   "source": [
    "# Solve the equation\n",
    "\n",
    "$$3x = 2 \\pmod{7}$$\n",
    "\n",
    "$$5\\times 3x = 5 \\times  2 \\pmod{7}$$\n",
    "\n",
    "$$15x = 10 \\pmod{7}$$\n",
    "\n",
    "$$\\therefore x = 3 \\pmod{7}$$"
   ]
  },
  {
   "cell_type": "markdown",
   "metadata": {
    "collapsed": false
   },
   "source": [
    "# Solve the equation\n",
    "\n",
    "$$6x = 1 \\pmod{7}$$\n",
    "$$6\\times 6x = 6 \\times 1 \\pmod{7}$$\n",
    "$$\\therefore x = 6 \\pmod{7}$$"
   ]
  },
  {
   "cell_type": "markdown",
   "metadata": {
    "collapsed": false
   },
   "source": [
    "## Find the remainder \n",
    "\n",
    "when \n",
    "\n",
    "$$ \\frac{7^{2004} - 1}{6} $$ is divided by $7$."
   ]
  },
  {
   "cell_type": "markdown",
   "metadata": {
    "collapsed": false
   },
   "source": [
    "# If we understand 1/6 in (mod 7), then the answer $$\\frac{7^{2004} -1}{6} = \\frac{-1}{6} = -6 = 1 \\pmod{7}$$"
   ]
  },
  {
   "cell_type": "markdown",
   "metadata": {
    "collapsed": false
   },
   "source": [
    "# The second way\n",
    "the above expression is the same as summing powers of 7, and therefore only the first one $7^0$ can contribute."
   ]
  },
  {
   "cell_type": "code",
   "execution_count": 0,
   "metadata": {
    "collapsed": false
   },
   "outputs": [
   ],
   "source": [
   ]
  }
 ],
 "metadata": {
  "kernelspec": {
   "display_name": "SageMath 9.1",
   "language": "sagemath",
   "metadata": {
    "cocalc": {
     "description": "Open-source mathematical software system",
     "priority": 1,
     "url": "https://www.sagemath.org/"
    }
   },
   "name": "sage-9.1",
   "resource_dir": "/ext/jupyter/kernels/sage-9.1"
  },
  "language_info": {
   "codemirror_mode": {
    "name": "ipython",
    "version": 3
   },
   "file_extension": ".py",
   "mimetype": "text/x-python",
   "name": "python",
   "nbconvert_exporter": "python",
   "pygments_lexer": "ipython3",
   "version": "3.7.3"
  }
 },
 "nbformat": 4,
 "nbformat_minor": 4
}