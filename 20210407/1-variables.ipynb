{
 "cells": [
  {
   "cell_type": "markdown",
   "metadata": {
    "collapsed": false
   },
   "source": [
    "\n",
    "# Programming variables\n",
    "\n",
    "We can use the following for variable names:\n",
    "\n",
    "- lowercase\n",
    "- uppercase\n",
    "- underscore\n",
    "- digits (not the first character)\n",
    "\n",
    "An excrypt from: https://www.python.org/dev/peps/pep-0008/#naming-conventions\n",
    "\n",
    "```\n",
    "There are a lot of different naming styles. It helps to be able to recognize what naming style is being used, independently from what they are used for.\n",
    "The following naming styles are commonly distinguished:\n",
    "- b (single lowercase letter)\n",
    "- B (single uppercase letter)\n",
    "- lowercase\n",
    "- lower_case_with_underscores\n",
    "- UPPERCASE\n",
    "- UPPER_CASE_WITH_UNDERSCORES\n",
    "- CapitalizedWords (or CapWords, or CamelCase -- so named because of the bumpy look of its letters [4]). This is also sometimes known as StudlyCaps.\n",
    "```"
   ]
  },
  {
   "cell_type": "code",
   "execution_count": 1,
   "metadata": {
    "collapsed": false
   },
   "outputs": [
    {
     "data": {
      "text/plain": [
       "110"
      ]
     },
     "execution_count": 1,
     "metadata": {
     },
     "output_type": "execute_result"
    }
   ],
   "source": [
    "a = 10\n",
    "b = 10 * 10\n",
    "\n",
    "a + b"
   ]
  },
  {
   "cell_type": "code",
   "execution_count": 2,
   "metadata": {
    "collapsed": false
   },
   "outputs": [
    {
     "data": {
      "text/plain": [
       "10020"
      ]
     },
     "execution_count": 2,
     "metadata": {
     },
     "output_type": "execute_result"
    }
   ],
   "source": [
    "2*a + b^2"
   ]
  },
  {
   "cell_type": "markdown",
   "metadata": {
    "collapsed": false
   },
   "source": [
    "\n",
    "## Variable assignment\n",
    "\n",
    "We use the assignment (store) operator `=` to store the result of right hand side to the variable(s) on the left\n",
    "\n",
    "\n",
    "`a = a + b` means to store the result of the value of `a+b` to the variable `a`"
   ]
  },
  {
   "cell_type": "code",
   "execution_count": 3,
   "metadata": {
    "collapsed": false
   },
   "outputs": [
    {
     "data": {
      "text/plain": [
       "110"
      ]
     },
     "execution_count": 3,
     "metadata": {
     },
     "output_type": "execute_result"
    }
   ],
   "source": [
    "a = a + b\n",
    "a"
   ]
  },
  {
   "cell_type": "markdown",
   "metadata": {
    "collapsed": false
   },
   "source": [
    "\n",
    "## Pattern matching\n",
    "\n",
    "We can store values to multiple variables at the same time"
   ]
  },
  {
   "cell_type": "code",
   "execution_count": 4,
   "metadata": {
    "collapsed": false
   },
   "outputs": [
    {
     "data": {
      "text/plain": [
       "1/10"
      ]
     },
     "execution_count": 4,
     "metadata": {
     },
     "output_type": "execute_result"
    }
   ],
   "source": [
    "a, b  =  10, 100\n",
    "\n",
    "a/b"
   ]
  },
  {
   "cell_type": "code",
   "execution_count": 5,
   "metadata": {
    "collapsed": false
   },
   "outputs": [
    {
     "data": {
      "text/plain": [
       "(10, 10, 10, 10)"
      ]
     },
     "execution_count": 5,
     "metadata": {
     },
     "output_type": "execute_result"
    }
   ],
   "source": [
    "a = 10,10,10,10\n",
    "\n",
    "a"
   ]
  },
  {
   "cell_type": "markdown",
   "metadata": {
    "collapsed": false
   },
   "source": [
    "\n",
    "## Swapping values\n",
    "\n",
    "So, we can easily swap values between two values in one line"
   ]
  },
  {
   "cell_type": "code",
   "execution_count": 6,
   "metadata": {
    "collapsed": false
   },
   "outputs": [
    {
     "data": {
      "text/plain": [
       "3000"
      ]
     },
     "execution_count": 6,
     "metadata": {
     },
     "output_type": "execute_result"
    }
   ],
   "source": [
    "a, b = 1234, 3000\n",
    "a\n",
    "b\n",
    "#a, b = b, a\n",
    "a = b\n",
    "b = a\n",
    "a\n",
    "b"
   ]
  },
  {
   "cell_type": "code",
   "execution_count": 7,
   "metadata": {
    "collapsed": false
   },
   "outputs": [
    {
     "data": {
      "text/plain": [
       "1234"
      ]
     },
     "execution_count": 7,
     "metadata": {
     },
     "output_type": "execute_result"
    }
   ],
   "source": [
    "a, b = 1234, 3000\n",
    "a\n",
    "b\n",
    "a, b = b, a\n",
    "a\n",
    "b"
   ]
  },
  {
   "cell_type": "markdown",
   "metadata": {
    "collapsed": false
   },
   "source": [
    "\n",
    "## Name overriding\n",
    "\n",
    "Programming variables can be modified at any line.\n",
    "\n",
    "- We can even rename pi to some other values instead of the mathematical constant $\\pi$\n",
    "- or even the function `n`\n",
    "\n",
    "If, unforunately, we override some mathematical functions or constants,\n",
    "- `reset('name')` can help to reset its original meaning in Sage"
   ]
  },
  {
   "cell_type": "code",
   "execution_count": 8,
   "metadata": {
    "collapsed": false
   },
   "outputs": [
    {
     "ename": "TypeError",
     "evalue": "'sage.rings.integer.Integer' object is not callable",
     "output_type": "error",
     "traceback": [
      "\u001b[0;31m---------------------------------------------------------------------------\u001b[0m",
      "\u001b[0;31mTypeError\u001b[0m                                 Traceback (most recent call last)",
      "\u001b[0;32m<ipython-input-8-c6d56ab31d76>\u001b[0m in \u001b[0;36m<module>\u001b[0;34m\u001b[0m\n\u001b[1;32m      1\u001b[0m \u001b[0mn\u001b[0m \u001b[0;34m=\u001b[0m \u001b[0mInteger\u001b[0m\u001b[0;34m(\u001b[0m\u001b[0;36m10033\u001b[0m\u001b[0;34m)\u001b[0m\u001b[0;34m\u001b[0m\u001b[0;34m\u001b[0m\u001b[0m\n\u001b[0;32m----> 2\u001b[0;31m \u001b[0mn\u001b[0m\u001b[0;34m(\u001b[0m\u001b[0msqrt\u001b[0m\u001b[0;34m(\u001b[0m\u001b[0mInteger\u001b[0m\u001b[0;34m(\u001b[0m\u001b[0;36m4\u001b[0m\u001b[0;34m)\u001b[0m\u001b[0;34m)\u001b[0m\u001b[0;34m)\u001b[0m  \u001b[0;31m# This gives a TypeError exception.\u001b[0m\u001b[0;34m\u001b[0m\u001b[0;34m\u001b[0m\u001b[0m\n\u001b[0m",
      "\u001b[0;31mTypeError\u001b[0m: 'sage.rings.integer.Integer' object is not callable"
     ]
    }
   ],
   "source": [
    "n = 10033\n",
    "n(sqrt(4))  # This gives a TypeError exception."
   ]
  },
  {
   "cell_type": "code",
   "execution_count": 9,
   "metadata": {
    "collapsed": false
   },
   "outputs": [
    {
     "data": {
      "text/plain": [
       "2.00000000000000"
      ]
     },
     "execution_count": 9,
     "metadata": {
     },
     "output_type": "execute_result"
    }
   ],
   "source": [
    "reset('n')\n",
    "n(sqrt(4))"
   ]
  },
  {
   "cell_type": "markdown",
   "metadata": {
    "collapsed": false
   },
   "source": [
    "\n",
    "## Vector\n",
    "\n",
    "Variables can store any objects.\n",
    "\n",
    "We introduce a mathematical concept called vector, which is a tuple of numbers.\n",
    "\n",
    "It is usually written in column, but in most programming languages, we store it as row.\n",
    "\n",
    "*The exception are column-major-order language like Fortran, Julia.*\n",
    "\n",
    "*These languages are designed for numerical computation instead of generally purposed*"
   ]
  },
  {
   "cell_type": "code",
   "execution_count": 10,
   "metadata": {
    "collapsed": false
   },
   "outputs": [
    {
     "data": {
      "text/html": [
       "<html><script type=\"math/tex; mode=display\">\\newcommand{\\Bold}[1]{\\mathbf{#1}}\\left(\\begin{array}{r}\n",
       "1 \\\\\n",
       "3 \\\\\n",
       "4\n",
       "\\end{array}\\right)</script></html>"
      ],
      "text/latex": [
       "\\begin{math}\n",
       "\\newcommand{\\Bold}[1]{\\mathbf{#1}}\\left(\\begin{array}{r}\n",
       "1 \\\\\n",
       "3 \\\\\n",
       "4\n",
       "\\end{array}\\right)\n",
       "\\end{math}"
      ],
      "text/plain": [
       "[1]\n",
       "[3]\n",
       "[4]"
      ]
     },
     "execution_count": 10,
     "metadata": {
     },
     "output_type": "execute_result"
    }
   ],
   "source": [
    "weights = vector([1,3,4])\n",
    "show(weights.column())"
   ]
  },
  {
   "cell_type": "code",
   "execution_count": 11,
   "metadata": {
    "collapsed": false
   },
   "outputs": [
    {
     "data": {
      "text/html": [
       "<html><script type=\"math/tex; mode=display\">\\newcommand{\\Bold}[1]{\\mathbf{#1}}\\left(85,\\,90,\\,100\\right)</script></html>"
      ],
      "text/latex": [
       "\\begin{math}\n",
       "\\newcommand{\\Bold}[1]{\\mathbf{#1}}\\left(85,\\,90,\\,100\\right)\n",
       "\\end{math}"
      ],
      "text/plain": [
       "(85, 90, 100)"
      ]
     },
     "execution_count": 11,
     "metadata": {
     },
     "output_type": "execute_result"
    },
    {
     "data": {
      "text/html": [
       "<html><script type=\"math/tex; mode=display\">\\newcommand{\\Bold}[1]{\\mathbf{#1}}\\left(\\begin{array}{r}\n",
       "85 \\\\\n",
       "90 \\\\\n",
       "100\n",
       "\\end{array}\\right)</script></html>"
      ],
      "text/latex": [
       "\\begin{math}\n",
       "\\newcommand{\\Bold}[1]{\\mathbf{#1}}\\left(\\begin{array}{r}\n",
       "85 \\\\\n",
       "90 \\\\\n",
       "100\n",
       "\\end{array}\\right)\n",
       "\\end{math}"
      ],
      "text/plain": [
       "[ 85]\n",
       "[ 90]\n",
       "[100]"
      ]
     },
     "execution_count": 11,
     "metadata": {
     },
     "output_type": "execute_result"
    }
   ],
   "source": [
    "chinese, english, math = 85, 90, 100\n",
    "\n",
    "Judy = vector([chinese, english, math])\n",
    "\n",
    "show(Judy) # This gives the natural programming representation\n",
    "\n",
    "show(Judy.column()) # This gives the mathematical representation"
   ]
  },
  {
   "cell_type": "code",
   "execution_count": 12,
   "metadata": {
    "collapsed": false
   },
   "outputs": [
    {
     "data": {
      "text/plain": [
       "750"
      ]
     },
     "execution_count": 12,
     "metadata": {
     },
     "output_type": "execute_result"
    }
   ],
   "source": [
    "weights * Judy \n",
    "\n",
    "vector([1,3,4]) * vector([80,90,100])"
   ]
  },
  {
   "cell_type": "markdown",
   "metadata": {
    "collapsed": false
   },
   "source": [
    "\n",
    "## Vector dot product / inner product\n",
    "\n",
    "The above calcuation shows a very important mathematical operation called dot product, or equivalently, weighted sum.\n",
    "\n",
    "$$u\\cdot v$$\n",
    "\n",
    "The above operation between the vectors Jude and weights is essentially computed as\n",
    "\n",
    "$$1\\cdot 85 + 3\\cdot 90 + 4 \\cdot 100$$\n",
    "\n",
    "**Note that we have different meanings for the dot between two vectors and the dot between two numbers**"
   ]
  },
  {
   "cell_type": "code",
   "execution_count": 13,
   "metadata": {
    "collapsed": false
   },
   "outputs": [
    {
     "data": {
      "text/plain": [
       "755"
      ]
     },
     "execution_count": 13,
     "metadata": {
     },
     "output_type": "execute_result"
    }
   ],
   "source": [
    "weights.inner_product(Judy)"
   ]
  },
  {
   "cell_type": "code",
   "execution_count": 0,
   "metadata": {
    "collapsed": false
   },
   "outputs": [
   ],
   "source": [
   ]
  }
 ],
 "metadata": {
  "kernelspec": {
   "display_name": "SageMath 9.2",
   "language": "sagemath",
   "metadata": {
    "cocalc": {
     "description": "Open-source mathematical software system",
     "priority": 10,
     "url": "https://www.sagemath.org/"
    }
   },
   "name": "sage-9.2",
   "resource_dir": "/ext/jupyter/kernels/sage-9.2"
  },
  "language_info": {
   "codemirror_mode": {
    "name": "ipython",
    "version": 2
   },
   "file_extension": ".py",
   "mimetype": "text/x-python",
   "name": "python",
   "nbconvert_exporter": "python",
   "pygments_lexer": "ipython2",
   "version": "2.7.12+"
  }
 },
 "nbformat": 4,
 "nbformat_minor": 4
}