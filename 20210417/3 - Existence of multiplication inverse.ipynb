{
 "cells": [
  {
   "cell_type": "markdown",
   "metadata": {},
   "source": [
    "# Can we solve the following? \n",
    "\n",
    " 1. $$3x \\equiv 6 \\pmod{9}$$\n",
    " 1. $$3x \\equiv 5 \\pmod{9}$$"
   ]
  },
  {
   "cell_type": "code",
   "execution_count": 2,
   "metadata": {},
   "outputs": [
    {
     "data": {
      "text/plain": [
       "[{x: 2}, {x: 5}, {x: 8}]"
      ]
     },
     "execution_count": 2,
     "metadata": {},
     "output_type": "execute_result"
    }
   ],
   "source": [
    "solve_mod(3*x==6, 9,x) # There are more than one solution!!!"
   ]
  },
  {
   "cell_type": "code",
   "execution_count": 4,
   "metadata": {},
   "outputs": [
    {
     "data": {
      "text/plain": [
       "[]"
      ]
     },
     "execution_count": 4,
     "metadata": {},
     "output_type": "execute_result"
    }
   ],
   "source": [
    "solve_mod(3*x==5, 9,x) # There is no solution"
   ]
  },
  {
   "cell_type": "markdown",
   "metadata": {},
   "source": [
    "# For the first one, \n",
    "\n",
    "It seems like the solution can be given by \n",
    "\n",
    "$$ x \\equiv 2 \\pmod{3} $$"
   ]
  },
  {
   "cell_type": "markdown",
   "metadata": {},
   "source": [
    "# For the second one,\n",
    "\n",
    "Assume there is a solution, then \n",
    "\n",
    "\\begin{align*}\n",
    "3x & \\equiv5\\pmod{9}\\\\\n",
    "9x & \\equiv15\\pmod{9}\\\\\n",
    "0 & \\equiv6\\pmod{9}\n",
    "\\end{align*}\n",
    "\n",
    "\n",
    "The last line is impossible. Contradiction."
   ]
  },
  {
   "cell_type": "markdown",
   "metadata": {},
   "source": [
    "# Multiplicative inverse of $a$ under mod $m$\n",
    "\n",
    "If we can find a solution to $$ax + my = 1$$, we know the inverse of $a$ is given by $x$."
   ]
  },
  {
   "cell_type": "code",
   "execution_count": 10,
   "metadata": {},
   "outputs": [
    {
     "data": {
      "text/plain": [
       "5"
      ]
     },
     "execution_count": 10,
     "metadata": {},
     "output_type": "execute_result"
    }
   ],
   "source": [
    "inverse_mod(3,7) # Inverse of 3 under mod 7"
   ]
  },
  {
   "cell_type": "markdown",
   "metadata": {},
   "source": [
    "# Investigation"
   ]
  },
  {
   "cell_type": "code",
   "execution_count": 16,
   "metadata": {},
   "outputs": [
    {
     "data": {
      "text/plain": [
       "(1, -2, 1)"
      ]
     },
     "execution_count": 16,
     "metadata": {},
     "output_type": "execute_result"
    }
   ],
   "source": [
    "xgcd(3,7)  #  3(-2) + 7(1) = 1"
   ]
  },
  {
   "cell_type": "markdown",
   "metadata": {},
   "source": [
    "\n",
    "\\begin{align*}\n",
    "3\\left(-2\\right)+7\\left(1\\right) & =1\\\\\n",
    "3\\left(-2\\right)+0 & \\equiv1\\pmod{7}\\\\\n",
    "3\\left(-2\\right) & \\equiv1\\pmod{7}\\\\\n",
    "3\\left(5\\right) & \\equiv1\\pmod{7}\n",
    "\\end{align*}\n",
    "\n",
    "\n"
   ]
  },
  {
   "cell_type": "markdown",
   "metadata": {},
   "source": [
    "# Result\n",
    "\n",
    "Multiplicate inverse of $a$ exists  under mod $m$ if and only if $\\gcd(a,m)=1$\n",
    "\n",
    "In such case, we can find the inverse by Extended Euclidean Algorithm."
   ]
  },
  {
   "cell_type": "code",
   "execution_count": null,
   "metadata": {},
   "outputs": [],
   "source": []
  }
 ],
 "metadata": {
  "kernelspec": {
   "display_name": "SageMath 9.1",
   "language": "sage",
   "name": "sagemath"
  },
  "language_info": {
   "codemirror_mode": {
    "name": "ipython",
    "version": 3
   },
   "file_extension": ".py",
   "mimetype": "text/x-python",
   "name": "python",
   "nbconvert_exporter": "python",
   "pygments_lexer": "ipython3",
   "version": "3.7.3"
  }
 },
 "nbformat": 4,
 "nbformat_minor": 2
}
