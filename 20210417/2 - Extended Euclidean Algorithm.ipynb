{
 "cells": [
  {
   "cell_type": "markdown",
   "metadata": {},
   "source": [
    "# Implementation of Extended Euclidean Algorithm"
   ]
  },
  {
   "cell_type": "code",
   "execution_count": 1,
   "metadata": {},
   "outputs": [
    {
     "name": "stdout",
     "output_type": "stream",
     "text": [
      "r\t(m,n)\n",
      "330 \t (1, 0)\n",
      "120 \t (0, 1)\n",
      "90 \t (1, -2)\n",
      "30 \t (-1, 3)\n",
      "0 \t (4, -11)\n"
     ]
    }
   ],
   "source": [
    "a, b = 330, 120\n",
    "prev = vector([1,0])\n",
    "curr = vector([0,1])\n",
    "\n",
    "print(\"r\\t(m,n)\")\n",
    "print(a,\"\\t\", prev)\n",
    "print(b,\"\\t\", curr)\n",
    "\n",
    "while b > 0:\n",
    "    q, r = a//b, a%b\n",
    "    prev, curr = curr, prev - q*curr\n",
    "    print(r,\"\\t\", curr)\n",
    "    a, b = b, a%b"
   ]
  },
  {
   "cell_type": "code",
   "execution_count": 10,
   "metadata": {},
   "outputs": [
    {
     "data": {
      "text/plain": [
       "(-1, 3)"
      ]
     },
     "execution_count": 10,
     "metadata": {},
     "output_type": "execute_result"
    }
   ],
   "source": [
    "101 % 7 ,  \n",
    "\n",
    "101 - 7 * 14 \n",
    "\n",
    "90 , 330 - 2 * 120\n",
    "\n",
    "120 - 90\n",
    "\n",
    "#(0,1) - (1, -2)\n",
    "\n",
    "(-1, 3)"
   ]
  },
  {
   "cell_type": "markdown",
   "metadata": {},
   "source": [
    "# Why?\n",
    "\n",
    "Remainder is computed by $$r=a - bq$$ \n",
    "\n",
    "We represent $a$ as $(1,0)$ and $b$ as $(0,1)$.\n",
    "\n",
    "$(1,0)$ means one copy of $a$.\n",
    "\n",
    "$(0,1)$ means one copy of $b$.\n",
    "\n",
    "The next remainder $r$ can be represented as one copy of $a$ subtracted by $q$ copies of $b$.\n",
    "\n",
    "Therefore, r can be represented as $(1,-q)$"
   ]
  },
  {
   "cell_type": "markdown",
   "metadata": {},
   "source": [
    "# Proof of Euclidean Algorithm\n",
    "\n",
    "1. $gcd(a,0) = a$\n",
    "1. $gcd(a,b) = gcd(b, a \\bmod b)$"
   ]
  },
  {
   "cell_type": "markdown",
   "metadata": {},
   "source": [
    "# Proof of (1)\n",
    "\n",
    "The first one is clear, since every integer divides $0$ and $a$ divides itself."
   ]
  },
  {
   "cell_type": "markdown",
   "metadata": {},
   "source": [
    "# Observation\n",
    "\n",
    "If $d | a, b$, then  $d | (a-b)$\n",
    "and therefore,   $d$  is also a common divisor of $(b, a-b)$\n",
    "\n",
    "On the other hand\n",
    "\n",
    "If $d' | (a-b), b$, then $a = (a-b) + b$ is also divisible by $d'$\n",
    "\n",
    "therefore, $d'$ is also a common divisor of $(a,b)$\n",
    "\n"
   ]
  },
  {
   "cell_type": "markdown",
   "metadata": {},
   "source": [
    "# Proof of (2)\n",
    "Assume $a > b$, we just need to compare the collection of common divisors of $a, b$\n",
    "and that of $b, a-b$\n",
    "\n",
    "If $d$ is a common divisor of $a$ and $b$, does $d$ also divide $a-b$?\n",
    "\n",
    "What about if we have a common divisor $d'$ of $b$ and $a-b$, does $d'$ also divide $a$?\n",
    "\n",
    "Next, $r$ can be computed by repeated subtraction\n",
    "\n",
    "For example,\n",
    "\n",
    "$1 = 10 \\bmod 3$ can be written as $((10 -3) -3) -3$"
   ]
  },
  {
   "cell_type": "code",
   "execution_count": 16,
   "metadata": {},
   "outputs": [
    {
     "data": {
      "text/plain": [
       "[1, 2, 3, 5, 6, 10, 15, 30]"
      ]
     },
     "execution_count": 16,
     "metadata": {},
     "output_type": "execute_result"
    }
   ],
   "source": [
    "[k for k in divisors(330) if k in divisors(120)] "
   ]
  },
  {
   "cell_type": "code",
   "execution_count": 19,
   "metadata": {},
   "outputs": [
    {
     "data": {
      "text/plain": [
       "[1, 2, 3, 5, 6, 10, 15, 30]"
      ]
     },
     "execution_count": 19,
     "metadata": {},
     "output_type": "execute_result"
    }
   ],
   "source": [
    "[k for k in divisors(330) if k in divisors(450)] "
   ]
  },
  {
   "cell_type": "code",
   "execution_count": 18,
   "metadata": {},
   "outputs": [
    {
     "data": {
      "text/plain": [
       "[1, 2, 3, 5, 6, 10, 15, 30]"
      ]
     },
     "execution_count": 18,
     "metadata": {},
     "output_type": "execute_result"
    }
   ],
   "source": [
    "[k for k in divisors(330) if k in divisors(90)] "
   ]
  },
  {
   "cell_type": "markdown",
   "metadata": {},
   "source": [
    "# Which way is the fastest in general to computer GCD?"
   ]
  },
  {
   "cell_type": "code",
   "execution_count": 21,
   "metadata": {},
   "outputs": [
    {
     "data": {
      "text/plain": [
       "1"
      ]
     },
     "execution_count": 21,
     "metadata": {},
     "output_type": "execute_result"
    }
   ],
   "source": [
    "gcd(10^2009, 10^2009 + 1)\n",
    "\n",
    "# d | N , N+1      then  d | (N+1) - N = 1"
   ]
  },
  {
   "cell_type": "code",
   "execution_count": 23,
   "metadata": {},
   "outputs": [
    {
     "data": {
      "text/plain": [
       "7^2 * 11 * 13 * 127 * 2689 * 459691 * 909091"
      ]
     },
     "execution_count": 23,
     "metadata": {},
     "output_type": "execute_result"
    }
   ],
   "source": [
    "factor(10^21+1)"
   ]
  },
  {
   "cell_type": "code",
   "execution_count": null,
   "metadata": {},
   "outputs": [],
   "source": []
  }
 ],
 "metadata": {
  "kernelspec": {
   "display_name": "SageMath 9.1",
   "language": "sage",
   "name": "sagemath"
  },
  "language_info": {
   "codemirror_mode": {
    "name": "ipython",
    "version": 3
   },
   "file_extension": ".py",
   "mimetype": "text/x-python",
   "name": "python",
   "nbconvert_exporter": "python",
   "pygments_lexer": "ipython3",
   "version": "3.7.3"
  }
 },
 "nbformat": 4,
 "nbformat_minor": 2
}
