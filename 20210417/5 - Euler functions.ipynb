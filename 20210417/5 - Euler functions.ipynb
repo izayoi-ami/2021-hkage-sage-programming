{
 "cells": [
  {
   "cell_type": "markdown",
   "metadata": {},
   "source": [
    "# Euler phi function \n",
    "\n",
    "$\\phi(N)$ counts the number of integers in mod N that is coprime to N (i.e. having no common factor greater than 1)"
   ]
  },
  {
   "cell_type": "code",
   "execution_count": 16,
   "metadata": {},
   "outputs": [
    {
     "data": {
      "text/plain": [
       "4"
      ]
     },
     "execution_count": 16,
     "metadata": {},
     "output_type": "execute_result"
    }
   ],
   "source": [
    "euler_phi(10) # [1, 3, 7, 9]"
   ]
  },
  {
   "cell_type": "markdown",
   "metadata": {},
   "source": [
    "# Properties\n",
    "\n",
    "1. $\\phi\\left(p^{k}\\right)=p^{k}-p^{k-1}=p^{k-1}\\left(p-1\\right)$ for any prime $p$\n",
    "1. $\\phi\\left(ab\\right)=\\phi\\left(a\\right)\\phi\\left(b\\right)$ whenever $\\gcd\\left(a,b\\right)=1$"
   ]
  },
  {
   "cell_type": "markdown",
   "metadata": {},
   "source": [
    "# Proof of (1)\n",
    "\n",
    "For a prime power $N=p^k$, all multiples of p has a common factor $p$ with $N$.\n",
    "\n",
    "The total number of coprimes can be counted as $$ N - \\frac{N}{p}$$\n",
    "\n",
    "The above can be written as $p^k - p^{k-1}$"
   ]
  },
  {
   "cell_type": "markdown",
   "metadata": {},
   "source": [
    "# Idea of (2)\n",
    "\n",
    "We can represent each number from $0$ to $N-1$ by $(x,y)$\n",
    "\n",
    "For example, if $N=70=14\\times 5$,\n",
    "\n",
    "we can arrange the 70 numbers in a grid by 5 rows and 14 columns, (and label from 0 to 4 for row, 0 to 13 for column)\n",
    "\n",
    "$(1,2)$ is there the 1st row 2 column, which represent the element $14(1)+(2) = 16$\n",
    "\n",
    "$(3,4)$ is the element $14(3) + 4 = 56$\n",
    "\n",
    "the last element is naturally $(4,13)$ which means $14(4) + 13 = 69$\n",
    "\n",
    "From this representaiton, we can see that at least half element in the 4th row has a common divisor $2$ with $70$"
   ]
  },
  {
   "cell_type": "markdown",
   "metadata": {},
   "source": [
    "# Elegant observation\n",
    "\n",
    "Recall that the pair $(x,y)$ is just the expression $14x + y$\n",
    "\n",
    "If we focus on the right index,\n",
    "$(\\cdot, k)$ has a non-trivial common divisor with $70$ if $k$ has a non-trivial common divisor with $14$!!\n",
    "\n",
    "So, we can pick the columns that is coprime with $14$, which has $\\phi(14)$."
   ]
  },
  {
   "cell_type": "markdown",
   "metadata": {},
   "source": [
    "# Remaining case\n",
    "\n",
    "In each of the selected column $t$, we know that the numbers are of the form \n",
    "$14x + t$ and $\\gcd(14x+t, 14)=\\gcd(14, t)=1$\n",
    "\n",
    "i.e. every number in the selected colum is coprime with $14$.\n",
    "\n",
    "Therefore, if we are able to filter out the remaining numbers which share a common factor with 5, then we are done.\n",
    "How many are there?\n",
    "\n",
    "Exactly $\\phi(5)$ !!\n",
    "\n",
    "Therefore, total number of coprimes is $\\phi(14) \\times \\phi(5)$\n",
    "\n",
    "If we replace the above with $a$ and $b$, then we have the proof."
   ]
  },
  {
   "cell_type": "code",
   "execution_count": 17,
   "metadata": {},
   "outputs": [
    {
     "data": {
      "text/plain": [
       "24"
      ]
     },
     "execution_count": 17,
     "metadata": {},
     "output_type": "execute_result"
    }
   ],
   "source": [
    "euler_phi(70)"
   ]
  },
  {
   "cell_type": "code",
   "execution_count": 10,
   "metadata": {},
   "outputs": [
    {
     "data": {
      "text/plain": [
       "(6, 4)"
      ]
     },
     "execution_count": 10,
     "metadata": {},
     "output_type": "execute_result"
    }
   ],
   "source": [
    "euler_phi(14) , euler_phi(5)"
   ]
  },
  {
   "cell_type": "markdown",
   "metadata": {},
   "source": [
    "# Euler's theorem\n",
    "\n",
    "Let $a$ and $n$ be coprime, then $$a^{\\phi(n)} \\equiv 1 \\pmod{n}$$\n",
    "\n",
    "Furthermore, if $m$ is the smallest power such that $$a^m \\equiv 1 \\pmod{n}$$\n",
    "\n",
    "then $m$ divides $\\phi(n)$"
   ]
  },
  {
   "cell_type": "code",
   "execution_count": 27,
   "metadata": {},
   "outputs": [
    {
     "data": {
      "text/plain": [
       "1"
      ]
     },
     "execution_count": 27,
     "metadata": {},
     "output_type": "execute_result"
    }
   ],
   "source": [
    "17^24 % 70"
   ]
  },
  {
   "cell_type": "code",
   "execution_count": 28,
   "metadata": {},
   "outputs": [
    {
     "data": {
      "text/plain": [
       "12"
      ]
     },
     "execution_count": 28,
     "metadata": {},
     "output_type": "execute_result"
    }
   ],
   "source": [
    "min([k for k in [1..24] if 17^k%70==1])"
   ]
  },
  {
   "cell_type": "code",
   "execution_count": 29,
   "metadata": {},
   "outputs": [
    {
     "data": {
      "text/plain": [
       "0.142857142857143"
      ]
     },
     "execution_count": 29,
     "metadata": {},
     "output_type": "execute_result"
    }
   ],
   "source": [
    "(1/7).n()"
   ]
  },
  {
   "cell_type": "code",
   "execution_count": 30,
   "metadata": {},
   "outputs": [
    {
     "data": {
      "text/plain": [
       "1"
      ]
     },
     "execution_count": 30,
     "metadata": {},
     "output_type": "execute_result"
    }
   ],
   "source": [
    "10^6 % 7"
   ]
  },
  {
   "cell_type": "code",
   "execution_count": 31,
   "metadata": {},
   "outputs": [
    {
     "data": {
      "text/plain": [
       "0.0769230769230769"
      ]
     },
     "execution_count": 31,
     "metadata": {},
     "output_type": "execute_result"
    }
   ],
   "source": [
    "(1/13).n()"
   ]
  },
  {
   "cell_type": "code",
   "execution_count": 32,
   "metadata": {},
   "outputs": [
    {
     "data": {
      "text/plain": [
       "1"
      ]
     },
     "execution_count": 32,
     "metadata": {},
     "output_type": "execute_result"
    }
   ],
   "source": [
    "10^6 % 13"
   ]
  },
  {
   "cell_type": "code",
   "execution_count": null,
   "metadata": {},
   "outputs": [],
   "source": []
  }
 ],
 "metadata": {
  "kernelspec": {
   "display_name": "SageMath 9.1",
   "language": "sage",
   "name": "sagemath"
  },
  "language_info": {
   "codemirror_mode": {
    "name": "ipython",
    "version": 3
   },
   "file_extension": ".py",
   "mimetype": "text/x-python",
   "name": "python",
   "nbconvert_exporter": "python",
   "pygments_lexer": "ipython3",
   "version": "3.7.3"
  }
 },
 "nbformat": 4,
 "nbformat_minor": 2
}
