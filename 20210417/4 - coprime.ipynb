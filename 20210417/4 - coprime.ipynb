{
 "cells": [
  {
   "cell_type": "markdown",
   "metadata": {},
   "source": [
    "# Number of elements with inverse\n",
    "\n",
    "Before the investigation, we create a custom function that counts the number of elements which has inverse under mod N"
   ]
  },
  {
   "cell_type": "code",
   "execution_count": 1,
   "metadata": {},
   "outputs": [],
   "source": [
    "def number_of_invertible_elements(N):\n",
    "    return len([k for k in [0..N-1] if gcd(k,N)==1])"
   ]
  },
  {
   "cell_type": "markdown",
   "metadata": {},
   "source": [
    "# How many numebrs in mod 7 does have a multiplicative inverse?"
   ]
  },
  {
   "cell_type": "code",
   "execution_count": 2,
   "metadata": {},
   "outputs": [
    {
     "data": {
      "text/plain": [
       "6"
      ]
     },
     "execution_count": 2,
     "metadata": {},
     "output_type": "execute_result"
    }
   ],
   "source": [
    "number_of_invertible_elements(7)"
   ]
  },
  {
   "cell_type": "markdown",
   "metadata": {},
   "source": [
    "# How many numebrs in mod 15 does have a multiplicative inverse?"
   ]
  },
  {
   "cell_type": "code",
   "execution_count": 3,
   "metadata": {},
   "outputs": [
    {
     "data": {
      "text/plain": [
       "8"
      ]
     },
     "execution_count": 3,
     "metadata": {},
     "output_type": "execute_result"
    }
   ],
   "source": [
    "number_of_invertible_elements(15)"
   ]
  },
  {
   "cell_type": "markdown",
   "metadata": {},
   "source": [
    "# How many numebrs in mod 35 does have a multiplicative inverse?"
   ]
  },
  {
   "cell_type": "code",
   "execution_count": 4,
   "metadata": {},
   "outputs": [
    {
     "data": {
      "text/plain": [
       "24"
      ]
     },
     "execution_count": 4,
     "metadata": {},
     "output_type": "execute_result"
    }
   ],
   "source": [
    "number_of_invertible_elements(35)"
   ]
  },
  {
   "cell_type": "markdown",
   "metadata": {},
   "source": [
    "# Any pattern?"
   ]
  },
  {
   "cell_type": "code",
   "execution_count": 15,
   "metadata": {},
   "outputs": [
    {
     "name": "stdout",
     "output_type": "stream",
     "text": [
      "Number\t # \t Prime Fac.\n",
      "2 \t 1 \t 2\n",
      "3 \t 2 \t 3\n",
      "4 \t 2 \t 2^2\n",
      "5 \t 4 \t 5\n",
      "6 \t 2 \t 2 * 3\n",
      "7 \t 6 \t 7\n",
      "8 \t 4 \t 2^3\n",
      "9 \t 6 \t 3^2\n",
      "10 \t 4 \t 2 * 5\n",
      "11 \t 10 \t 11\n",
      "12 \t 4 \t 2^2 * 3\n",
      "13 \t 12 \t 13\n",
      "14 \t 6 \t 2 * 7\n",
      "15 \t 8 \t 3 * 5\n",
      "16 \t 8 \t 2^4\n",
      "17 \t 16 \t 17\n",
      "18 \t 6 \t 2 * 3^2\n",
      "19 \t 18 \t 19\n",
      "20 \t 8 \t 2^2 * 5\n",
      "21 \t 12 \t 3 * 7\n",
      "22 \t 10 \t 2 * 11\n",
      "23 \t 22 \t 23\n",
      "24 \t 8 \t 2^3 * 3\n",
      "25 \t 20 \t 5^2\n",
      "26 \t 12 \t 2 * 13\n",
      "27 \t 18 \t 3^3\n",
      "28 \t 12 \t 2^2 * 7\n",
      "29 \t 28 \t 29\n",
      "30 \t 8 \t 2 * 3 * 5\n",
      "31 \t 30 \t 31\n",
      "32 \t 16 \t 2^5\n",
      "33 \t 20 \t 3 * 11\n",
      "34 \t 16 \t 2 * 17\n",
      "35 \t 24 \t 5 * 7\n",
      "36 \t 12 \t 2^2 * 3^2\n",
      "37 \t 36 \t 37\n",
      "38 \t 18 \t 2 * 19\n",
      "39 \t 24 \t 3 * 13\n",
      "40 \t 16 \t 2^3 * 5\n"
     ]
    }
   ],
   "source": [
    "print(\"Number\\t # \\t Prime Fac.\")\n",
    "for k in [2..40]:\n",
    "    print(k,\"\\t\", number_of_invertible_elements(k), \"\\t\", factor(k))"
   ]
  },
  {
   "cell_type": "code",
   "execution_count": null,
   "metadata": {},
   "outputs": [],
   "source": []
  }
 ],
 "metadata": {
  "kernelspec": {
   "display_name": "SageMath 9.1",
   "language": "sage",
   "name": "sagemath"
  },
  "language_info": {
   "codemirror_mode": {
    "name": "ipython",
    "version": 3
   },
   "file_extension": ".py",
   "mimetype": "text/x-python",
   "name": "python",
   "nbconvert_exporter": "python",
   "pygments_lexer": "ipython3",
   "version": "3.7.3"
  }
 },
 "nbformat": 4,
 "nbformat_minor": 2
}
