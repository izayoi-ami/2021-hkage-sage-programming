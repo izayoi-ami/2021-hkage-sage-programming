{
 "cells": [
  {
   "cell_type": "markdown",
   "metadata": {
    "collapsed": false
   },
   "source": [
    "# Summation Notation\n",
    "\n",
    "$$\\sum_{k=1}^{10} k^3 $$"
   ]
  },
  {
   "cell_type": "code",
   "execution_count": 1,
   "metadata": {
    "collapsed": false,
    "scrolled": true
   },
   "outputs": [
    {
     "data": {
      "text/plain": [
       "3025"
      ]
     },
     "execution_count": 1,
     "metadata": {
     },
     "output_type": "execute_result"
    }
   ],
   "source": [
    "sum([k^3 for k in [1..10]])   # Python Style"
   ]
  },
  {
   "cell_type": "markdown",
   "metadata": {
    "collapsed": false
   },
   "source": [
    "# Detail\n",
    "\n",
    "In the above method, we first create a list [1, 8, 27, 64, 125, 216, 343, 512, 729, 1000].\n",
    "\n",
    "Then, we sum all the numbers in this list.\n",
    "\n",
    "However, when asked to compute sum like $1+2+3+4+ \\cdots + 10$\n",
    "\n",
    "We can perform computation without writing all the ten numbers first.\n",
    "\n",
    "One way is to do as in the following:\n",
    "\n",
    "1. 1+2 = 3\n",
    "1. 3+3 = 6\n",
    "1. 6+4 = 10 \n",
    "1. ......  so on to get 45 + 10 = 55.\n"
   ]
  },
  {
   "cell_type": "code",
   "execution_count": 2,
   "metadata": {
    "collapsed": false
   },
   "outputs": [
    {
     "data": {
      "text/plain": [
       "3025"
      ]
     },
     "execution_count": 2,
     "metadata": {
     },
     "output_type": "execute_result"
    }
   ],
   "source": [
    "var(\"k\")\n",
    "sum(k^3, k, 1, 10) # This is the mathematical way to express summation without creating a list of ten numbers"
   ]
  }
 ],
 "metadata": {
  "kernelspec": {
   "display_name": "SageMath 9.1",
   "language": "sagemath",
   "metadata": {
    "cocalc": {
     "description": "Open-source mathematical software system",
     "priority": 1,
     "url": "https://www.sagemath.org/"
    }
   },
   "name": "sage-9.1",
   "resource_dir": "/ext/jupyter/kernels/sage-9.1"
  },
  "language_info": {
   "codemirror_mode": {
    "name": "ipython",
    "version": 3
   },
   "file_extension": ".py",
   "mimetype": "text/x-python",
   "name": "python",
   "nbconvert_exporter": "python",
   "pygments_lexer": "ipython3",
   "version": "3.7.3"
  }
 },
 "nbformat": 4,
 "nbformat_minor": 4
}